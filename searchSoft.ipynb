{
 "cells": [
  {
   "cell_type": "code",
   "execution_count": null,
   "id": "21cd8ca2-c502-44a4-8a7a-c23e789b49b8",
   "metadata": {},
   "outputs": [],
   "source": [
    "# Script créé par Julien Caugant, bibliothécaire-assistant à Aix-Marseille Université, sous licence GNU-GPL\n",
    "import PyPDF2, requests as rq, json, pandas as pd\n",
    "import urllib.request\n",
    "import os\n",
    "import re, time\n",
    "keyword = [\"GitHub\",\"Github\"]\n",
    "k_found = []\n",
    "hal_id = []\n",
    "submit_by = []"
   ]
  },
  {
   "cell_type": "code",
   "execution_count": null,
   "id": "efcbea23-f1da-4c3c-80f1-fdff8f9e3d50",
   "metadata": {},
   "outputs": [],
   "source": [
    "url = \"https://api.archives-ouvertes.fr/search/?q=*:*&wt=json&rows=500&fq=submitType_s:file&fq=structId_i:198056&fq=submittedDateY_i:2024&fl=uri_s,contributorFullName_s\""
   ]
  },
  {
   "cell_type": "code",
   "execution_count": null,
   "id": "0c381dc3-e7f0-4597-a430-bf10228420e2",
   "metadata": {},
   "outputs": [],
   "source": [
    "req = rq.get(url)\n",
    "req = req.json()"
   ]
  },
  {
   "cell_type": "code",
   "execution_count": null,
   "id": "cf60e12e-a84e-4e87-9181-9099a6975088",
   "metadata": {
    "scrolled": true
   },
   "outputs": [],
   "source": [
    "for i in range(0, len(req['response']['docs'])):\n",
    "    try :\n",
    "        pdf = req['response']['docs'][i]['uri_s']+\"/document\"\n",
    "        sub = req['response']['docs'][i]['contributorFullName_s']\n",
    "        urllib.request.urlretrieve(pdf, \"doc.pdf\")\n",
    "        read_pdf = open('doc.pdf', 'rb')\n",
    "        try :\n",
    "            pdfReader = PyPDF2.PdfReader(read_pdf)\n",
    "            for j in range(0,len(pdfReader.pages)):\n",
    "                pageObj = pdfReader.pages[j]\n",
    "                text=(pageObj.extract_text())\n",
    "                text=text.split(\",\")\n",
    "                for word in text :\n",
    "                    for k in keyword :\n",
    "                        if k in word :\n",
    "                            print(f\"Le terme {k} a été trouvé dans le document {pdf}\")\n",
    "                            k_found.append(k)\n",
    "                            hal_id.append(pdf)\n",
    "                            submit_by.append(sub)\n",
    "        except :\n",
    "            continue\n",
    "    except :\n",
    "        continue\n",
    "columns = ['Terme trouvé','Identifiant HAL','Déposant']\n",
    "df = pd.DataFrame(columns=columns)\n",
    "df['Terme trouvé'], df['Identifiant HAL'], df['Déposant'] = k_found, hal_id, submit_by\n",
    "df.drop_duplicates(subset =\"Identifiant HAL\", keep = 'first', inplace=True)\n",
    "\n",
    "                \n",
    "            \n",
    "    "
   ]
  },
  {
   "cell_type": "code",
   "execution_count": null,
   "id": "0d2b5899-ce26-480d-8537-13eb9ec2ee70",
   "metadata": {},
   "outputs": [],
   "source": [
    "df"
   ]
  },
  {
   "cell_type": "code",
   "execution_count": null,
   "id": "cdce7645-882b-496e-b6b3-eec6750f2a6c",
   "metadata": {},
   "outputs": [],
   "source": [
    "df.to_csv(\"result.csv\")"
   ]
  },
  {
   "cell_type": "code",
   "execution_count": null,
   "id": "2e764724-84b7-4184-9aca-9a818ac628f2",
   "metadata": {},
   "outputs": [],
   "source": [
    "pdf"
   ]
  },
  {
   "cell_type": "code",
   "execution_count": null,
   "id": "2a8b7ded-f182-4a2c-a0c5-c2ed94bd4b71",
   "metadata": {},
   "outputs": [],
   "source": []
  }
 ],
 "metadata": {
  "kernelspec": {
   "display_name": "Python 3 (ipykernel)",
   "language": "python",
   "name": "python3"
  },
  "language_info": {
   "codemirror_mode": {
    "name": "ipython",
    "version": 3
   },
   "file_extension": ".py",
   "mimetype": "text/x-python",
   "name": "python",
   "nbconvert_exporter": "python",
   "pygments_lexer": "ipython3",
   "version": "3.11.7"
  }
 },
 "nbformat": 4,
 "nbformat_minor": 5
}
